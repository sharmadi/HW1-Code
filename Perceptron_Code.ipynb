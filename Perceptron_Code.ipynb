{
 "cells": [
  {
   "cell_type": "code",
   "execution_count": 73,
   "id": "27cf6876",
   "metadata": {},
   "outputs": [],
   "source": [
    "import numpy as np # linear algebra\n",
    "import pandas as pd # data processing,"
   ]
  },
  {
   "cell_type": "code",
   "execution_count": 84,
   "id": "639650d6",
   "metadata": {},
   "outputs": [],
   "source": [
    "class Perceptron:\n",
    "    \"\"\"\n",
    "    Stocastic Perceptron neuron\n",
    "    \"\"\"\n",
    "\n",
    "    def __init__(self, learning_rate=0.1):\n",
    "        \"\"\"\n",
    "        instantiate a new Perceptron\n",
    "\n",
    "        :param learning_rate: coefficient used to tune the model\n",
    "        response to training data\n",
    "        \"\"\"\n",
    "        self.learning_rate = 0.1\n",
    "        self._b = 0  # y-intercept\n",
    "        self._w =  None # weights assigned to input features\n",
    "        # count of errors during each iteration\n",
    "        self.misclassified_samples = []\n",
    "\n",
    "    def weightUpdate(self, x, y):\n",
    "        for i in range(len(self._w)):\n",
    "            multiplier = y * x[i]\n",
    "            self._w[i] += (self.learning_rate * multiplier)\n",
    "            \n",
    "    def fit(self, x: np.array, y: np.array, n_iter=10):\n",
    "        \"\"\"\n",
    "        fit the Perceptron model on the training data\n",
    "\n",
    "        :param x: samples to fit the model on\n",
    "        :param y: labels of the training samples\n",
    "        :param n_iter: number of training iterations \n",
    "        \"\"\"\n",
    "        self._w = np.ones((x.shape[1], 1))\n",
    "        self.misclassified_samples = []\n",
    "\n",
    "        for _ in range(n_iter):\n",
    "            ####### YOUR CODE HERE #######\n",
    "            yPred = self.predict(x)\n",
    "            numOfBadPredictions = 0;\n",
    "            for i in range(len(yPred)):\n",
    "                x_ = x[i]\n",
    "                y_ = y[i]\n",
    "                if y_ != yPred[i]:\n",
    "                    numOfBadPredictions = numOfBadPredictions + 1\n",
    "                    self.weightUpdate(x_,y_)\n",
    "                    self._b += self.learning_rate * y_\n",
    "            difference = len(y) - numOfBadPredictions\n",
    "            division = difference/(len(y))\n",
    "            percentage = division*100\n",
    "            print(\"Accuracy %:\", round(percentage, 4))\n",
    "            ####### END YOUR CODE HERE #######\n",
    "            self.misclassified_samples.append(numOfBadPredictions)\n",
    "\n",
    "    def f(self, x: np.array) -> float:\n",
    "        \"\"\"\n",
    "        compute the output of the neuron\n",
    "        :param x: input features\n",
    "        :return: the output of the neuron\n",
    "        \"\"\"\n",
    "        \n",
    "        ####### YOUR CODE HERE #######\n",
    "        weight = self._w\n",
    "        _bias = self._b\n",
    "        \n",
    "        dotMultiply = np.dot(x, weight)\n",
    "        return sum(dotMultiply + _bias)\n",
    "        ####### END YOUR CODE HERE #######\n",
    "\n",
    "    def predict(self, x: np.array):\n",
    "        \"\"\"\n",
    "        convert the output of the neuron to a binary output\n",
    "        :param x: input features\n",
    "        :return: 1 if the output for the sample is positive (or zero),\n",
    "        -1 otherwise\n",
    "        \"\"\"\n",
    "        ####### YOUR CODE HERE #######\n",
    "        rawOutputs = []\n",
    "        for elem in x:\n",
    "            rawOutputs.append(self.f(elem))\n",
    "            \n",
    "        binaryOutputs = []\n",
    "        for o in rawOutputs:\n",
    "            if o >= 0:\n",
    "                binaryOutputs.append(1)\n",
    "            else:\n",
    "                binaryOutputs.append(-1)\n",
    "        return np.array(binaryOutputs)\n",
    "        ####### END YOUR CODE HERE #######"
   ]
  },
  {
   "cell_type": "code",
   "execution_count": 85,
   "id": "d5ea5d48",
   "metadata": {},
   "outputs": [
    {
     "data": {
      "text/html": [
       "<div>\n",
       "<style scoped>\n",
       "    .dataframe tbody tr th:only-of-type {\n",
       "        vertical-align: middle;\n",
       "    }\n",
       "\n",
       "    .dataframe tbody tr th {\n",
       "        vertical-align: top;\n",
       "    }\n",
       "\n",
       "    .dataframe thead th {\n",
       "        text-align: right;\n",
       "    }\n",
       "</style>\n",
       "<table border=\"1\" class=\"dataframe\">\n",
       "  <thead>\n",
       "    <tr style=\"text-align: right;\">\n",
       "      <th></th>\n",
       "      <th>0</th>\n",
       "      <th>1</th>\n",
       "      <th>2</th>\n",
       "      <th>3</th>\n",
       "      <th>4</th>\n",
       "    </tr>\n",
       "  </thead>\n",
       "  <tbody>\n",
       "    <tr>\n",
       "      <th>145</th>\n",
       "      <td>6.7</td>\n",
       "      <td>3.0</td>\n",
       "      <td>5.2</td>\n",
       "      <td>2.3</td>\n",
       "      <td>Iris-virginica</td>\n",
       "    </tr>\n",
       "    <tr>\n",
       "      <th>146</th>\n",
       "      <td>6.3</td>\n",
       "      <td>2.5</td>\n",
       "      <td>5.0</td>\n",
       "      <td>1.9</td>\n",
       "      <td>Iris-virginica</td>\n",
       "    </tr>\n",
       "    <tr>\n",
       "      <th>147</th>\n",
       "      <td>6.5</td>\n",
       "      <td>3.0</td>\n",
       "      <td>5.2</td>\n",
       "      <td>2.0</td>\n",
       "      <td>Iris-virginica</td>\n",
       "    </tr>\n",
       "    <tr>\n",
       "      <th>148</th>\n",
       "      <td>6.2</td>\n",
       "      <td>3.4</td>\n",
       "      <td>5.4</td>\n",
       "      <td>2.3</td>\n",
       "      <td>Iris-virginica</td>\n",
       "    </tr>\n",
       "    <tr>\n",
       "      <th>149</th>\n",
       "      <td>5.9</td>\n",
       "      <td>3.0</td>\n",
       "      <td>5.1</td>\n",
       "      <td>1.8</td>\n",
       "      <td>Iris-virginica</td>\n",
       "    </tr>\n",
       "  </tbody>\n",
       "</table>\n",
       "</div>"
      ],
      "text/plain": [
       "       0    1    2    3               4\n",
       "145  6.7  3.0  5.2  2.3  Iris-virginica\n",
       "146  6.3  2.5  5.0  1.9  Iris-virginica\n",
       "147  6.5  3.0  5.2  2.0  Iris-virginica\n",
       "148  6.2  3.4  5.4  2.3  Iris-virginica\n",
       "149  5.9  3.0  5.1  1.8  Iris-virginica"
      ]
     },
     "execution_count": 85,
     "metadata": {},
     "output_type": "execute_result"
    }
   ],
   "source": [
    "import pandas as pd\n",
    "###### YOUR CODE HERE ######\n",
    "df = pd.read_csv(\"iris.data.csv\", header = None)###### Read iris data set using pandas ######\n",
    "###### YOUR CODE ENDS HERE ######\n",
    "df.tail()"
   ]
  },
  {
   "cell_type": "code",
   "execution_count": 86,
   "id": "7807b172",
   "metadata": {},
   "outputs": [
    {
     "data": {
      "image/png": "[encoded data removed]",
      "text/plain": [
       "<Figure size 432x288 with 1 Axes>"
      ]
     },
     "metadata": {
      "needs_background": "light"
     },
     "output_type": "display_data"
    }
   ],
   "source": [
    "%matplotlib inline\n",
    "import matplotlib.pyplot as plt\n",
    "import numpy as np\n",
    "\n",
    "# select setosa and versicolor\n",
    "###### YOUR CODE HERE ######\n",
    "####select Iris-setosa using np.where. Make sure you take extra care of the indexing####\n",
    "y = np.where(df.iloc[:,4] == \"Iris-setosa\", 1, -1)\n",
    "###### YOUR CODE ENDS HERE ######\n",
    "\n",
    "\n",
    "\n",
    "###### YOUR CODE HERE ######\n",
    "# extract sepal length and petal length\n",
    "X = df.iloc[:,[0,2]].to_numpy()\n",
    "###### YOUR CODE ENDS HERE ######\n",
    "\n",
    "# plot data\n",
    "plt.scatter(X[:50, 0], X[:50, 1],\n",
    "            color='red', marker='o', label='setosa')\n",
    "plt.scatter(X[50:100, 0], X[50:100, 1],\n",
    "            color='blue', marker='x', label='versicolor')\n",
    "\n",
    "plt.xlabel('sepal length [cm]')\n",
    "plt.ylabel('petal length [cm]')\n",
    "plt.legend(loc='upper left')\n",
    "\n",
    "# plt.savefig('images/02_06.png', dpi=300)\n",
    "plt.show()"
   ]
  },
  {
   "cell_type": "code",
   "execution_count": 87,
   "id": "1ce74387",
   "metadata": {},
   "outputs": [
    {
     "name": "stdout",
     "output_type": "stream",
     "text": [
      "Accuracy %: 33.3333\n",
      "Accuracy %: 66.6667\n",
      "Accuracy %: 66.6667\n",
      "Accuracy %: 66.6667\n",
      "Accuracy %: 100.0\n",
      "Accuracy %: 100.0\n",
      "Accuracy %: 100.0\n",
      "Accuracy %: 100.0\n",
      "Accuracy %: 100.0\n",
      "Accuracy %: 100.0\n"
     ]
    },
    {
     "data": {
      "image/png": "[encoded data removed]",
      "text/plain": [
       "<Figure size 432x288 with 1 Axes>"
      ]
     },
     "metadata": {
      "needs_background": "light"
     },
     "output_type": "display_data"
    }
   ],
   "source": [
    "classifier = Perceptron(learning_rate=0.01)\n",
    "classifier.fit(X, y)\n",
    "\n",
    "plt.plot(range(1, len(classifier.misclassified_samples) + 1), classifier.misclassified_samples, marker='o')\n",
    "plt.xlabel('Epochs')\n",
    "plt.ylabel('Number of updates')\n",
    "\n",
    "# plt.savefig('images/02_07.png', dpi=300)\n",
    "plt.show()"
   ]
  },
  {
   "cell_type": "code",
   "execution_count": 88,
   "id": "685a359b",
   "metadata": {},
   "outputs": [],
   "source": [
    "from matplotlib.colors import ListedColormap\n",
    "\n",
    "\n",
    "def plot_decision_regions(X, y, classifier, resolution=0.02):\n",
    "\n",
    "    # setup marker generator and color map\n",
    "    markers = ('s', 'x', 'o', '^', 'v')\n",
    "    colors = ('red', 'blue', 'lightgreen', 'gray', 'cyan')\n",
    "    cmap = ListedColormap(colors[:len(np.unique(y))])\n",
    "\n",
    "    # plot the decision surface\n",
    "    x1_min, x1_max = X[:, 0].min() - 1, X[:, 0].max() + 1\n",
    "    x2_min, x2_max = X[:, 1].min() - 1, X[:, 1].max() + 1\n",
    "    xx1, xx2 = np.meshgrid(np.arange(x1_min, x1_max, resolution),\n",
    "                           np.arange(x2_min, x2_max, resolution))\n",
    "    Z = classifier.predict(np.array([xx1.ravel(), xx2.ravel()]).T)\n",
    "    Z = Z.reshape(xx1.shape)\n",
    "    plt.contourf(xx1, xx2, Z, alpha=0.3, cmap=cmap)\n",
    "    plt.xlim(xx1.min(), xx1.max())\n",
    "    plt.ylim(xx2.min(), xx2.max())\n",
    "\n",
    "    # plot class samples\n",
    "    for idx, cl in enumerate(np.unique(y)):\n",
    "        plt.scatter(x=X[y == cl, 0], \n",
    "                    y=X[y == cl, 1],\n",
    "                    alpha=0.8, \n",
    "                    c=colors[idx],\n",
    "                    marker=markers[idx], \n",
    "                    label=cl, \n",
    "                    edgecolor='black')"
   ]
  },
  {
   "cell_type": "code",
   "execution_count": 89,
   "id": "abb26058",
   "metadata": {},
   "outputs": [
    {
     "data": {
      "image/png": "[encoded data removed]",
      "text/plain": [
       "<Figure size 432x288 with 1 Axes>"
      ]
     },
     "metadata": {
      "needs_background": "light"
     },
     "output_type": "display_data"
    }
   ],
   "source": [
    "plot_decision_regions(X, y, classifier=classifier)\n",
    "plt.xlabel('sepal length [cm]')\n",
    "plt.ylabel('petal length [cm]')\n",
    "plt.legend(loc='upper left')\n",
    "\n",
    "\n",
    "# plt.savefig('images/02_08.png', dpi=300)\n",
    "plt.show()"
   ]
  },
  {
   "cell_type": "code",
   "execution_count": 90,
   "id": "4ff19409",
   "metadata": {},
   "outputs": [
    {
     "ename": "TypeError",
     "evalue": "__init__() got an unexpected keyword argument 'n_features'",
     "output_type": "error",
     "traceback": [
      "\u001b[0;31m---------------------------------------------------------------------------\u001b[0m",
      "\u001b[0;31mTypeError\u001b[0m                                 Traceback (most recent call last)",
      "\u001b[0;32m<ipython-input-90-41952708cf30>\u001b[0m in \u001b[0;36m<module>\u001b[0;34m\u001b[0m\n\u001b[1;32m      1\u001b[0m \u001b[0;31m####Note that Perceptron class has \"n_features\" attribute which is the number of features in the dataset.\u001b[0m\u001b[0;34m\u001b[0m\u001b[0;34m\u001b[0m\u001b[0;34m\u001b[0m\u001b[0m\n\u001b[1;32m      2\u001b[0m \u001b[0;34m\u001b[0m\u001b[0m\n\u001b[0;32m----> 3\u001b[0;31m \u001b[0mclassifier\u001b[0m \u001b[0;34m=\u001b[0m \u001b[0mPerceptron\u001b[0m\u001b[0;34m(\u001b[0m\u001b[0mlearning_rate\u001b[0m\u001b[0;34m=\u001b[0m\u001b[0;36m0.001\u001b[0m\u001b[0;34m,\u001b[0m \u001b[0mn_features\u001b[0m\u001b[0;34m=\u001b[0m\u001b[0;36m2\u001b[0m\u001b[0;34m)\u001b[0m\u001b[0;34m\u001b[0m\u001b[0;34m\u001b[0m\u001b[0m\n\u001b[0m\u001b[1;32m      4\u001b[0m \u001b[0;32mfor\u001b[0m \u001b[0mi\u001b[0m \u001b[0;32min\u001b[0m \u001b[0mrange\u001b[0m\u001b[0;34m(\u001b[0m\u001b[0;36m0\u001b[0m\u001b[0;34m,\u001b[0m \u001b[0;36m10\u001b[0m\u001b[0;34m)\u001b[0m\u001b[0;34m:\u001b[0m\u001b[0;34m\u001b[0m\u001b[0;34m\u001b[0m\u001b[0m\n\u001b[1;32m      5\u001b[0m     \u001b[0mclassifier\u001b[0m\u001b[0;34m.\u001b[0m\u001b[0mfit\u001b[0m\u001b[0;34m(\u001b[0m\u001b[0mX\u001b[0m\u001b[0;34m,\u001b[0m \u001b[0my\u001b[0m\u001b[0;34m)\u001b[0m\u001b[0;34m\u001b[0m\u001b[0;34m\u001b[0m\u001b[0m\n",
      "\u001b[0;31mTypeError\u001b[0m: __init__() got an unexpected keyword argument 'n_features'"
     ]
    }
   ],
   "source": [
    "####Note that Perceptron class has \"n_features\" attribute which is the number of features in the dataset.\n",
    "\n",
    "classifier = Perceptron(learning_rate=0.001, n_features=2)\n",
    "for i in range(0, 10):\n",
    "    classifier.fit(X, y)\n",
    "    plot_decision_regions(X, y, classifier=classifier)\n",
    "    plt.xlabel('sepal length [cm]')\n",
    "    plt.ylabel('petal length [cm]')\n",
    "    plt.legend(loc='upper left')\n",
    "    plt.show()"
   ]
  },
  {
   "cell_type": "code",
   "execution_count": null,
   "id": "b4227114",
   "metadata": {},
   "outputs": [],
   "source": []
  }
 ],
 "metadata": {
  "kernelspec": {
   "display_name": "Python 3",
   "language": "python",
   "name": "python3"
  },
  "language_info": {
   "codemirror_mode": {
    "name": "ipython",
    "version": 3
   },
   "file_extension": ".py",
   "mimetype": "text/x-python",
   "name": "python",
   "nbconvert_exporter": "python",
   "pygments_lexer": "ipython3",
   "version": "3.8.8"
  }
 },
 "nbformat": 4,
 "nbformat_minor": 5
}
